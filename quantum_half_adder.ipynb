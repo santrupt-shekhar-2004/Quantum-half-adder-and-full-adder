{
 "cells": [
  {
   "cell_type": "code",
   "execution_count": 15,
   "id": "2b915ef5-7d22-4aba-b51c-5c8f96feee3c",
   "metadata": {},
   "outputs": [
    {
     "name": "stdout",
     "output_type": "stream",
     "text": [
      "0.45.0\n"
     ]
    }
   ],
   "source": [
    "import qiskit\n",
    "print(qiskit.__version__)\n",
    "\n"
   ]
  },
  {
   "cell_type": "code",
   "execution_count": 6,
   "id": "d43a520d-6487-4bd6-a874-4023bfdcb6c4",
   "metadata": {},
   "outputs": [],
   "source": [
    "from qiskit import IBMQ"
   ]
  },
  {
   "cell_type": "code",
   "execution_count": 9,
   "id": "25ef53eb-ca7a-4f0b-8abc-a9985f59054e",
   "metadata": {},
   "outputs": [
    {
     "name": "stderr",
     "output_type": "stream",
     "text": [
      "configrc.store_credentials:WARNING:2023-11-09 23:02:35,363: Credentials already present. Set overwrite=True to overwrite.\n"
     ]
    }
   ],
   "source": [
    "IBMQ.save_account('1c3630d33a7bcc6b1f096394b1a52a3620d5199fb13325e7b572ad9ec1ee36b8ed81a2ef71c4c8876aaebf353fb1e78377d44e030ede9b56b4ebc02008ddb2e6')"
   ]
  },
  {
   "cell_type": "code",
   "execution_count": 8,
   "id": "b670c523-5f49-455d-83ec-fab881ba5efa",
   "metadata": {},
   "outputs": [
    {
     "name": "stdout",
     "output_type": "stream",
     "text": [
      "Requirement already satisfied: qiskit-ibmq-provider in ./anaconda3/lib/python3.10/site-packages (0.20.2)\n",
      "Requirement already satisfied: numpy<1.24 in ./anaconda3/lib/python3.10/site-packages (from qiskit-ibmq-provider) (1.23.5)\n",
      "Requirement already satisfied: requests-ntlm<=1.1.0 in ./anaconda3/lib/python3.10/site-packages (from qiskit-ibmq-provider) (1.1.0)\n",
      "Requirement already satisfied: qiskit-terra>=0.18.0 in ./anaconda3/lib/python3.10/site-packages (from qiskit-ibmq-provider) (0.45.0)\n",
      "Requirement already satisfied: python-dateutil>=2.8.0 in ./anaconda3/lib/python3.10/site-packages (from qiskit-ibmq-provider) (2.8.2)\n",
      "Requirement already satisfied: requests>=2.19 in ./anaconda3/lib/python3.10/site-packages (from qiskit-ibmq-provider) (2.28.1)\n",
      "Requirement already satisfied: websockets>=10.0 in ./anaconda3/lib/python3.10/site-packages (from qiskit-ibmq-provider) (12.0)\n",
      "Requirement already satisfied: urllib3>=1.21.1 in ./anaconda3/lib/python3.10/site-packages (from qiskit-ibmq-provider) (1.26.14)\n",
      "Requirement already satisfied: websocket-client>=1.5.1 in ./anaconda3/lib/python3.10/site-packages (from qiskit-ibmq-provider) (1.6.4)\n",
      "Requirement already satisfied: six>=1.5 in ./anaconda3/lib/python3.10/site-packages (from python-dateutil>=2.8.0->qiskit-ibmq-provider) (1.16.0)\n",
      "Requirement already satisfied: dill>=0.3 in ./anaconda3/lib/python3.10/site-packages (from qiskit-terra>=0.18.0->qiskit-ibmq-provider) (0.3.6)\n",
      "Requirement already satisfied: symengine<0.10,>=0.9 in ./anaconda3/lib/python3.10/site-packages (from qiskit-terra>=0.18.0->qiskit-ibmq-provider) (0.9.2)\n",
      "Requirement already satisfied: scipy>=1.5 in ./anaconda3/lib/python3.10/site-packages (from qiskit-terra>=0.18.0->qiskit-ibmq-provider) (1.10.0)\n",
      "Requirement already satisfied: sympy>=1.3 in ./anaconda3/lib/python3.10/site-packages (from qiskit-terra>=0.18.0->qiskit-ibmq-provider) (1.11.1)\n",
      "Requirement already satisfied: typing-extensions in ./anaconda3/lib/python3.10/site-packages (from qiskit-terra>=0.18.0->qiskit-ibmq-provider) (4.4.0)\n",
      "Requirement already satisfied: ply>=3.10 in ./anaconda3/lib/python3.10/site-packages (from qiskit-terra>=0.18.0->qiskit-ibmq-provider) (3.11)\n",
      "Requirement already satisfied: stevedore>=3.0.0 in ./anaconda3/lib/python3.10/site-packages (from qiskit-terra>=0.18.0->qiskit-ibmq-provider) (5.1.0)\n",
      "Requirement already satisfied: psutil>=5 in ./anaconda3/lib/python3.10/site-packages (from qiskit-terra>=0.18.0->qiskit-ibmq-provider) (5.9.0)\n",
      "Requirement already satisfied: rustworkx>=0.13.0 in ./anaconda3/lib/python3.10/site-packages (from qiskit-terra>=0.18.0->qiskit-ibmq-provider) (0.13.2)\n",
      "Requirement already satisfied: idna<4,>=2.5 in ./anaconda3/lib/python3.10/site-packages (from requests>=2.19->qiskit-ibmq-provider) (3.4)\n",
      "Requirement already satisfied: certifi>=2017.4.17 in ./anaconda3/lib/python3.10/site-packages (from requests>=2.19->qiskit-ibmq-provider) (2023.5.7)\n",
      "Requirement already satisfied: charset-normalizer<3,>=2 in ./anaconda3/lib/python3.10/site-packages (from requests>=2.19->qiskit-ibmq-provider) (2.0.4)\n",
      "Requirement already satisfied: ntlm-auth>=1.0.2 in ./anaconda3/lib/python3.10/site-packages (from requests-ntlm<=1.1.0->qiskit-ibmq-provider) (1.5.0)\n",
      "Requirement already satisfied: cryptography>=1.3 in ./anaconda3/lib/python3.10/site-packages (from requests-ntlm<=1.1.0->qiskit-ibmq-provider) (39.0.1)\n",
      "Requirement already satisfied: cffi>=1.12 in ./anaconda3/lib/python3.10/site-packages (from cryptography>=1.3->requests-ntlm<=1.1.0->qiskit-ibmq-provider) (1.15.1)\n",
      "Requirement already satisfied: pbr!=2.1.0,>=2.0.0 in ./anaconda3/lib/python3.10/site-packages (from stevedore>=3.0.0->qiskit-terra>=0.18.0->qiskit-ibmq-provider) (6.0.0)\n",
      "Requirement already satisfied: mpmath>=0.19 in ./anaconda3/lib/python3.10/site-packages/mpmath-1.2.1-py3.10.egg (from sympy>=1.3->qiskit-terra>=0.18.0->qiskit-ibmq-provider) (1.2.1)\n",
      "Requirement already satisfied: pycparser in ./anaconda3/lib/python3.10/site-packages (from cffi>=1.12->cryptography>=1.3->requests-ntlm<=1.1.0->qiskit-ibmq-provider) (2.21)\n",
      "Note: you may need to restart the kernel to use updated packages.\n"
     ]
    }
   ],
   "source": [
    "pip install qiskit-ibmq-provider"
   ]
  },
  {
   "cell_type": "code",
   "execution_count": 10,
   "id": "77087760-4c2b-4b05-a4bc-49796b02f5c7",
   "metadata": {},
   "outputs": [
    {
     "name": "stdout",
     "output_type": "stream",
     "text": [
      "0.45.0\n"
     ]
    }
   ],
   "source": [
    "import qiskit\n",
    "print(qiskit.__version__)\n"
   ]
  },
  {
   "cell_type": "code",
   "execution_count": 11,
   "id": "c1ee1c55-bc50-41b2-82c2-988f5e52bbd4",
   "metadata": {},
   "outputs": [],
   "source": [
    "from qiskit import IBMQ"
   ]
  },
  {
   "cell_type": "code",
   "execution_count": 12,
   "id": "5eac1117-60fc-48b5-b6e6-db7cd6e6e346",
   "metadata": {},
   "outputs": [
    {
     "name": "stderr",
     "output_type": "stream",
     "text": [
      "configrc.store_credentials:WARNING:2023-11-09 23:02:41,898: Credentials already present. Set overwrite=True to overwrite.\n"
     ]
    }
   ],
   "source": [
    "IBMQ.save_account('1c3630d33a7bcc6b1f096394b1a52a3620d5199fb13325e7b572ad9ec1ee36b8ed81a2ef71c4c8876aaebf353fb1e78377d44e030ede9b56b4ebc02008ddb2e6')"
   ]
  },
  {
   "cell_type": "code",
   "execution_count": 13,
   "id": "641b58b7-e05e-46bb-810b-0cbe0cde4e03",
   "metadata": {},
   "outputs": [
    {
     "data": {
      "text/plain": [
       "<AccountProvider for IBMQ(hub='ibm-q', group='open', project='main')>"
      ]
     },
     "execution_count": 13,
     "metadata": {},
     "output_type": "execute_result"
    }
   ],
   "source": [
    "IBMQ.load_account()"
   ]
  },
  {
   "cell_type": "code",
   "execution_count": 29,
   "id": "cc502d1d-2795-4e7c-b1ef-dc22efcc8eb2",
   "metadata": {},
   "outputs": [],
   "source": [
    "import sys\n",
    "\n",
    "# Specify the path to the qiskit-textbook-src directory\n",
    "qiskit_textbook_path = '/path/to/qiskit_textbook-src'\n",
    "\n",
    "\n",
    "# Add the path to sys.path\n",
    "sys.path.append('/Users/santruptshekhar/Downloads/qiskit-textbook-main/qiskit-textbook-src')"
   ]
  },
  {
   "cell_type": "code",
   "execution_count": 52,
   "id": "27eeb73c-7ec3-428a-8762-fb3e597b0907",
   "metadata": {},
   "outputs": [],
   "source": [
    "from qiskit import *\n",
    "from qiskit. visualization import plot_bloch_multivector, plot_histogram \n",
    "from qiskit_textbook.tools import array_to_latex"
   ]
  },
  {
   "cell_type": "code",
   "execution_count": 53,
   "id": "60dda685-bda8-41cd-9867-0c94e9d77277",
   "metadata": {},
   "outputs": [],
   "source": [
    "q = QuantumRegister(4)\n",
    "c = ClassicalRegister(2)\n",
    "qc = QuantumCircuit(q, c)"
   ]
  },
  {
   "cell_type": "code",
   "execution_count": 54,
   "id": "26dfe855-b178-49e5-b104-1a786b590190",
   "metadata": {},
   "outputs": [],
   "source": [
    "def hadder (a,b,s,c) : #a,b are the input qbits and c,s are carry and sum \n",
    "    qc.cx(q[a],q[s]) #cnot gate from qbit a to s\n",
    "    qc.cx(q[b],q[s]) #cnot gate from qbit b to s\n",
    "    qc.ccx(q[a],q[b],q[c]) #toffoli gate from qbit a , b to c "
   ]
  },
  {
   "cell_type": "code",
   "execution_count": 55,
   "id": "41d3361a-8834-4f01-880d-2fa9be77d6c3",
   "metadata": {},
   "outputs": [
    {
     "name": "stdout",
     "output_type": "stream",
     "text": [
      "Requirement already satisfied: qiskit-aer in ./anaconda3/lib/python3.10/site-packages (0.13.0)\n",
      "Requirement already satisfied: qiskit>=0.44.0 in ./anaconda3/lib/python3.10/site-packages (from qiskit-aer) (0.45.0)\n",
      "Requirement already satisfied: scipy>=1.0 in ./anaconda3/lib/python3.10/site-packages (from qiskit-aer) (1.10.0)\n",
      "Requirement already satisfied: numpy>=1.16.3 in ./anaconda3/lib/python3.10/site-packages (from qiskit-aer) (1.23.5)\n",
      "Requirement already satisfied: qiskit-terra==0.45.0 in ./anaconda3/lib/python3.10/site-packages (from qiskit>=0.44.0->qiskit-aer) (0.45.0)\n",
      "Requirement already satisfied: typing-extensions in ./anaconda3/lib/python3.10/site-packages (from qiskit-terra==0.45.0->qiskit>=0.44.0->qiskit-aer) (4.4.0)\n",
      "Requirement already satisfied: stevedore>=3.0.0 in ./anaconda3/lib/python3.10/site-packages (from qiskit-terra==0.45.0->qiskit>=0.44.0->qiskit-aer) (5.1.0)\n",
      "Requirement already satisfied: ply>=3.10 in ./anaconda3/lib/python3.10/site-packages (from qiskit-terra==0.45.0->qiskit>=0.44.0->qiskit-aer) (3.11)\n",
      "Requirement already satisfied: psutil>=5 in ./anaconda3/lib/python3.10/site-packages (from qiskit-terra==0.45.0->qiskit>=0.44.0->qiskit-aer) (5.9.0)\n",
      "Requirement already satisfied: rustworkx>=0.13.0 in ./anaconda3/lib/python3.10/site-packages (from qiskit-terra==0.45.0->qiskit>=0.44.0->qiskit-aer) (0.13.2)\n",
      "Requirement already satisfied: python-dateutil>=2.8.0 in ./anaconda3/lib/python3.10/site-packages (from qiskit-terra==0.45.0->qiskit>=0.44.0->qiskit-aer) (2.8.2)\n",
      "Requirement already satisfied: symengine<0.10,>=0.9 in ./anaconda3/lib/python3.10/site-packages (from qiskit-terra==0.45.0->qiskit>=0.44.0->qiskit-aer) (0.9.2)\n",
      "Requirement already satisfied: sympy>=1.3 in ./anaconda3/lib/python3.10/site-packages (from qiskit-terra==0.45.0->qiskit>=0.44.0->qiskit-aer) (1.11.1)\n",
      "Requirement already satisfied: dill>=0.3 in ./anaconda3/lib/python3.10/site-packages (from qiskit-terra==0.45.0->qiskit>=0.44.0->qiskit-aer) (0.3.6)\n",
      "Requirement already satisfied: six>=1.5 in ./anaconda3/lib/python3.10/site-packages (from python-dateutil>=2.8.0->qiskit-terra==0.45.0->qiskit>=0.44.0->qiskit-aer) (1.16.0)\n",
      "Requirement already satisfied: pbr!=2.1.0,>=2.0.0 in ./anaconda3/lib/python3.10/site-packages (from stevedore>=3.0.0->qiskit-terra==0.45.0->qiskit>=0.44.0->qiskit-aer) (6.0.0)\n",
      "Requirement already satisfied: mpmath>=0.19 in ./anaconda3/lib/python3.10/site-packages/mpmath-1.2.1-py3.10.egg (from sympy>=1.3->qiskit-terra==0.45.0->qiskit>=0.44.0->qiskit-aer) (1.2.1)\n",
      "Note: you may need to restart the kernel to use updated packages.\n"
     ]
    }
   ],
   "source": [
    "pip install qiskit-aer #backend "
   ]
  },
  {
   "cell_type": "code",
   "execution_count": 56,
   "id": "2bba50f7-85bd-41f2-845f-e62d6ad4cc76",
   "metadata": {},
   "outputs": [
    {
     "name": "stdout",
     "output_type": "stream",
     "text": [
      "{'00': 1000}\n"
     ]
    },
    {
     "data": {
      "image/png": "[encoded data removed]",
      "text/plain": [
       "<Figure size 556.56x451.5 with 1 Axes>"
      ]
     },
     "execution_count": 56,
     "metadata": {},
     "output_type": "execute_result"
    }
   ],
   "source": [
    "hadder(0,1, 2,3) # 0 and 1 are the input qbits and 2,3 are the sum and carry qbits repectively\n",
    "qc.measure(q[2], c[0]) #the sum qbit 2 will be measured on classical register 0\n",
    "qc.measure(q[3],c[1]) #the carry qbit 3 will be measured on the classical register 1\n",
    "\n",
    "backend = Aer.get_backend('qasm_simulator')\n",
    "job = execute(qc, backend, shots=1000)\n",
    "result = job.result()\n",
    "count = result.get_counts()\n",
    "print(count)\n",
    "qc.draw(output='mpl') # draws the circuit"
   ]
  },
  {
   "cell_type": "code",
   "execution_count": null,
   "id": "a9df476a-2683-477a-bb0d-0e97cee74491",
   "metadata": {},
   "outputs": [],
   "source": []
  }
 ],
 "metadata": {
  "kernelspec": {
   "display_name": "Python 3 (ipykernel)",
   "language": "python",
   "name": "python3"
  },
  "language_info": {
   "codemirror_mode": {
    "name": "ipython",
    "version": 3
   },
   "file_extension": ".py",
   "mimetype": "text/x-python",
   "name": "python",
   "nbconvert_exporter": "python",
   "pygments_lexer": "ipython3",
   "version": "3.10.9"
  }
 },
 "nbformat": 4,
 "nbformat_minor": 5
}
